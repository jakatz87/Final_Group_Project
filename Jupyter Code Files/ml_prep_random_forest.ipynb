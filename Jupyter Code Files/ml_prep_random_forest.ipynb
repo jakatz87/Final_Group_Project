{
 "cells": [
  {
   "cell_type": "code",
   "execution_count": 1,
   "metadata": {},
   "outputs": [],
   "source": [
    "# Initial imports.\n",
    "import pandas as pd\n",
    "\n",
    "from sklearn.ensemble import RandomForestClassifier\n",
    "from sklearn.preprocessing import StandardScaler\n",
    "from sklearn.model_selection import train_test_split\n",
    "from sklearn.metrics import confusion_matrix, accuracy_score, classification_report"
   ]
  },
  {
   "cell_type": "code",
   "execution_count": 2,
   "metadata": {},
   "outputs": [
    {
     "data": {
      "text/html": [
       "<div>\n",
       "<style scoped>\n",
       "    .dataframe tbody tr th:only-of-type {\n",
       "        vertical-align: middle;\n",
       "    }\n",
       "\n",
       "    .dataframe tbody tr th {\n",
       "        vertical-align: top;\n",
       "    }\n",
       "\n",
       "    .dataframe thead th {\n",
       "        text-align: right;\n",
       "    }\n",
       "</style>\n",
       "<table border=\"1\" class=\"dataframe\">\n",
       "  <thead>\n",
       "    <tr style=\"text-align: right;\">\n",
       "      <th></th>\n",
       "      <th>Unnamed: 0</th>\n",
       "      <th>state</th>\n",
       "      <th>date</th>\n",
       "      <th>max_temp</th>\n",
       "      <th>humidity</th>\n",
       "      <th>cloudiness</th>\n",
       "      <th>wind_speed</th>\n",
       "      <th>description</th>\n",
       "      <th>2012</th>\n",
       "      <th>2013</th>\n",
       "      <th>...</th>\n",
       "      <th>healh_care</th>\n",
       "      <th>cost_of_living</th>\n",
       "      <th>prop_to_income_ratio</th>\n",
       "      <th>traffic_comm_time</th>\n",
       "      <th>pollution</th>\n",
       "      <th>climate</th>\n",
       "      <th>city</th>\n",
       "      <th>latitude</th>\n",
       "      <th>longitude</th>\n",
       "      <th>high_q</th>\n",
       "    </tr>\n",
       "  </thead>\n",
       "  <tbody>\n",
       "    <tr>\n",
       "      <th>0</th>\n",
       "      <td>0</td>\n",
       "      <td>HI</td>\n",
       "      <td>2023-03-02 01:23:39</td>\n",
       "      <td>74.30</td>\n",
       "      <td>92</td>\n",
       "      <td>40</td>\n",
       "      <td>14.97</td>\n",
       "      <td>Government Expenditures</td>\n",
       "      <td>143873.0</td>\n",
       "      <td>161946.0</td>\n",
       "      <td>...</td>\n",
       "      <td>72.5</td>\n",
       "      <td>103.0</td>\n",
       "      <td>9.2</td>\n",
       "      <td>41.3</td>\n",
       "      <td>37.3</td>\n",
       "      <td>95.3</td>\n",
       "      <td>Kahului</td>\n",
       "      <td>20.8947</td>\n",
       "      <td>-156.470</td>\n",
       "      <td>0</td>\n",
       "    </tr>\n",
       "    <tr>\n",
       "      <th>1</th>\n",
       "      <td>1</td>\n",
       "      <td>HI</td>\n",
       "      <td>2023-03-02 01:23:40</td>\n",
       "      <td>75.52</td>\n",
       "      <td>66</td>\n",
       "      <td>75</td>\n",
       "      <td>25.32</td>\n",
       "      <td>Government Expenditures</td>\n",
       "      <td>143873.0</td>\n",
       "      <td>161946.0</td>\n",
       "      <td>...</td>\n",
       "      <td>72.5</td>\n",
       "      <td>103.0</td>\n",
       "      <td>9.2</td>\n",
       "      <td>41.3</td>\n",
       "      <td>37.3</td>\n",
       "      <td>95.3</td>\n",
       "      <td>Kapaa</td>\n",
       "      <td>22.0752</td>\n",
       "      <td>-159.319</td>\n",
       "      <td>0</td>\n",
       "    </tr>\n",
       "    <tr>\n",
       "      <th>2</th>\n",
       "      <td>2</td>\n",
       "      <td>NE</td>\n",
       "      <td>2023-03-02 01:23:40</td>\n",
       "      <td>32.88</td>\n",
       "      <td>78</td>\n",
       "      <td>0</td>\n",
       "      <td>13.80</td>\n",
       "      <td>Government Expenditures</td>\n",
       "      <td>86848.0</td>\n",
       "      <td>96517.0</td>\n",
       "      <td>...</td>\n",
       "      <td>NaN</td>\n",
       "      <td>NaN</td>\n",
       "      <td>NaN</td>\n",
       "      <td>NaN</td>\n",
       "      <td>NaN</td>\n",
       "      <td>NaN</td>\n",
       "      <td>Douglas</td>\n",
       "      <td>41.3000</td>\n",
       "      <td>-96.167</td>\n",
       "      <td>0</td>\n",
       "    </tr>\n",
       "    <tr>\n",
       "      <th>3</th>\n",
       "      <td>3</td>\n",
       "      <td>CA</td>\n",
       "      <td>2023-03-02 01:22:25</td>\n",
       "      <td>30.81</td>\n",
       "      <td>58</td>\n",
       "      <td>0</td>\n",
       "      <td>8.05</td>\n",
       "      <td>Government Expenditures</td>\n",
       "      <td>2779588.0</td>\n",
       "      <td>2790242.0</td>\n",
       "      <td>...</td>\n",
       "      <td>69.0</td>\n",
       "      <td>82.8</td>\n",
       "      <td>8.4</td>\n",
       "      <td>35.5</td>\n",
       "      <td>40.0</td>\n",
       "      <td>97.1</td>\n",
       "      <td>Susanville</td>\n",
       "      <td>40.4163</td>\n",
       "      <td>-120.653</td>\n",
       "      <td>1</td>\n",
       "    </tr>\n",
       "    <tr>\n",
       "      <th>4</th>\n",
       "      <td>9</td>\n",
       "      <td>HI</td>\n",
       "      <td>2023-03-02 01:23:41</td>\n",
       "      <td>71.11</td>\n",
       "      <td>90</td>\n",
       "      <td>89</td>\n",
       "      <td>5.01</td>\n",
       "      <td>Government Expenditures</td>\n",
       "      <td>143873.0</td>\n",
       "      <td>161946.0</td>\n",
       "      <td>...</td>\n",
       "      <td>72.5</td>\n",
       "      <td>103.0</td>\n",
       "      <td>9.2</td>\n",
       "      <td>41.3</td>\n",
       "      <td>37.3</td>\n",
       "      <td>95.3</td>\n",
       "      <td>Hilo</td>\n",
       "      <td>19.7297</td>\n",
       "      <td>-155.090</td>\n",
       "      <td>0</td>\n",
       "    </tr>\n",
       "  </tbody>\n",
       "</table>\n",
       "<p>5 rows × 33 columns</p>\n",
       "</div>"
      ],
      "text/plain": [
       "   Unnamed: 0 state                 date  max_temp  humidity  cloudiness  \\\n",
       "0           0    HI  2023-03-02 01:23:39     74.30        92          40   \n",
       "1           1    HI  2023-03-02 01:23:40     75.52        66          75   \n",
       "2           2    NE  2023-03-02 01:23:40     32.88        78           0   \n",
       "3           3    CA  2023-03-02 01:22:25     30.81        58           0   \n",
       "4           9    HI  2023-03-02 01:23:41     71.11        90          89   \n",
       "\n",
       "   wind_speed                  description       2012       2013  ...  \\\n",
       "0       14.97     Government Expenditures    143873.0   161946.0  ...   \n",
       "1       25.32     Government Expenditures    143873.0   161946.0  ...   \n",
       "2       13.80     Government Expenditures     86848.0    96517.0  ...   \n",
       "3        8.05     Government Expenditures   2779588.0  2790242.0  ...   \n",
       "4        5.01     Government Expenditures    143873.0   161946.0  ...   \n",
       "\n",
       "   healh_care  cost_of_living  prop_to_income_ratio  traffic_comm_time  \\\n",
       "0        72.5           103.0                   9.2               41.3   \n",
       "1        72.5           103.0                   9.2               41.3   \n",
       "2         NaN             NaN                   NaN                NaN   \n",
       "3        69.0            82.8                   8.4               35.5   \n",
       "4        72.5           103.0                   9.2               41.3   \n",
       "\n",
       "   pollution  climate        city  latitude longitude  high_q  \n",
       "0       37.3     95.3     Kahului   20.8947  -156.470       0  \n",
       "1       37.3     95.3       Kapaa   22.0752  -159.319       0  \n",
       "2        NaN      NaN     Douglas   41.3000   -96.167       0  \n",
       "3       40.0     97.1  Susanville   40.4163  -120.653       1  \n",
       "4       37.3     95.3        Hilo   19.7297  -155.090       0  \n",
       "\n",
       "[5 rows x 33 columns]"
      ]
     },
     "execution_count": 2,
     "metadata": {},
     "output_type": "execute_result"
    }
   ],
   "source": [
    "#Load data\n",
    "ml_df=pd.read_csv('ml_data.csv')\n",
    "ml_df.head()"
   ]
  },
  {
   "cell_type": "code",
   "execution_count": 3,
   "metadata": {},
   "outputs": [
    {
     "data": {
      "text/plain": [
       "(1189, 33)"
      ]
     },
     "execution_count": 3,
     "metadata": {},
     "output_type": "execute_result"
    }
   ],
   "source": [
    "ml_df.shape"
   ]
  },
  {
   "cell_type": "code",
   "execution_count": 4,
   "metadata": {},
   "outputs": [],
   "source": [
    "ml_df.dropna(subset=['qol_index'], inplace=True)"
   ]
  },
  {
   "cell_type": "code",
   "execution_count": 5,
   "metadata": {},
   "outputs": [
    {
     "data": {
      "text/plain": [
       "(873, 33)"
      ]
     },
     "execution_count": 5,
     "metadata": {},
     "output_type": "execute_result"
    }
   ],
   "source": [
    "ml_df.shape"
   ]
  },
  {
   "cell_type": "code",
   "execution_count": 6,
   "metadata": {},
   "outputs": [
    {
     "data": {
      "text/plain": [
       "Index(['Unnamed: 0', 'state', 'date', 'max_temp', 'humidity', 'cloudiness',\n",
       "       'wind_speed', 'description', '2012', '2013', '2014', '2015', '2016',\n",
       "       '2017', '2018', '2019', '2020', '2021', 'sum_passengers', 'city_rank',\n",
       "       'qol_index', 'purchase_power', 'safety', 'healh_care', 'cost_of_living',\n",
       "       'prop_to_income_ratio', 'traffic_comm_time', 'pollution', 'climate',\n",
       "       'city', 'latitude', 'longitude', 'high_q'],\n",
       "      dtype='object')"
      ]
     },
     "execution_count": 6,
     "metadata": {},
     "output_type": "execute_result"
    }
   ],
   "source": [
    "ml_df.columns"
   ]
  },
  {
   "cell_type": "code",
   "execution_count": 23,
   "metadata": {},
   "outputs": [
    {
     "data": {
      "text/html": [
       "<div>\n",
       "<style scoped>\n",
       "    .dataframe tbody tr th:only-of-type {\n",
       "        vertical-align: middle;\n",
       "    }\n",
       "\n",
       "    .dataframe tbody tr th {\n",
       "        vertical-align: top;\n",
       "    }\n",
       "\n",
       "    .dataframe thead th {\n",
       "        text-align: right;\n",
       "    }\n",
       "</style>\n",
       "<table border=\"1\" class=\"dataframe\">\n",
       "  <thead>\n",
       "    <tr style=\"text-align: right;\">\n",
       "      <th></th>\n",
       "      <th>max_temp</th>\n",
       "      <th>humidity</th>\n",
       "      <th>cloudiness</th>\n",
       "      <th>wind_speed</th>\n",
       "      <th>2017</th>\n",
       "      <th>2018</th>\n",
       "      <th>2019</th>\n",
       "      <th>2020</th>\n",
       "      <th>2021</th>\n",
       "      <th>purchase_power</th>\n",
       "      <th>safety</th>\n",
       "      <th>healh_care</th>\n",
       "      <th>cost_of_living</th>\n",
       "      <th>prop_to_income_ratio</th>\n",
       "      <th>traffic_comm_time</th>\n",
       "      <th>pollution</th>\n",
       "      <th>climate</th>\n",
       "    </tr>\n",
       "  </thead>\n",
       "  <tbody>\n",
       "    <tr>\n",
       "      <th>0</th>\n",
       "      <td>74.30</td>\n",
       "      <td>92</td>\n",
       "      <td>40</td>\n",
       "      <td>14.97</td>\n",
       "      <td>186628.0</td>\n",
       "      <td>191721.0</td>\n",
       "      <td>184088.0</td>\n",
       "      <td>188410.0</td>\n",
       "      <td>204287.0</td>\n",
       "      <td>75.4</td>\n",
       "      <td>52.4</td>\n",
       "      <td>72.5</td>\n",
       "      <td>103.0</td>\n",
       "      <td>9.2</td>\n",
       "      <td>41.3</td>\n",
       "      <td>37.3</td>\n",
       "      <td>95.3</td>\n",
       "    </tr>\n",
       "    <tr>\n",
       "      <th>1</th>\n",
       "      <td>75.52</td>\n",
       "      <td>66</td>\n",
       "      <td>75</td>\n",
       "      <td>25.32</td>\n",
       "      <td>186628.0</td>\n",
       "      <td>191721.0</td>\n",
       "      <td>184088.0</td>\n",
       "      <td>188410.0</td>\n",
       "      <td>204287.0</td>\n",
       "      <td>75.4</td>\n",
       "      <td>52.4</td>\n",
       "      <td>72.5</td>\n",
       "      <td>103.0</td>\n",
       "      <td>9.2</td>\n",
       "      <td>41.3</td>\n",
       "      <td>37.3</td>\n",
       "      <td>95.3</td>\n",
       "    </tr>\n",
       "    <tr>\n",
       "      <th>3</th>\n",
       "      <td>30.81</td>\n",
       "      <td>58</td>\n",
       "      <td>0</td>\n",
       "      <td>8.05</td>\n",
       "      <td>3222411.0</td>\n",
       "      <td>3331340.0</td>\n",
       "      <td>3248535.0</td>\n",
       "      <td>3367605.0</td>\n",
       "      <td>3654322.0</td>\n",
       "      <td>114.2</td>\n",
       "      <td>59.6</td>\n",
       "      <td>69.0</td>\n",
       "      <td>82.8</td>\n",
       "      <td>8.4</td>\n",
       "      <td>35.5</td>\n",
       "      <td>40.0</td>\n",
       "      <td>97.1</td>\n",
       "    </tr>\n",
       "    <tr>\n",
       "      <th>4</th>\n",
       "      <td>71.11</td>\n",
       "      <td>90</td>\n",
       "      <td>89</td>\n",
       "      <td>5.01</td>\n",
       "      <td>186628.0</td>\n",
       "      <td>191721.0</td>\n",
       "      <td>184088.0</td>\n",
       "      <td>188410.0</td>\n",
       "      <td>204287.0</td>\n",
       "      <td>75.4</td>\n",
       "      <td>52.4</td>\n",
       "      <td>72.5</td>\n",
       "      <td>103.0</td>\n",
       "      <td>9.2</td>\n",
       "      <td>41.3</td>\n",
       "      <td>37.3</td>\n",
       "      <td>95.3</td>\n",
       "    </tr>\n",
       "    <tr>\n",
       "      <th>5</th>\n",
       "      <td>26.11</td>\n",
       "      <td>54</td>\n",
       "      <td>100</td>\n",
       "      <td>25.32</td>\n",
       "      <td>114427.0</td>\n",
       "      <td>122910.0</td>\n",
       "      <td>119480.0</td>\n",
       "      <td>124424.0</td>\n",
       "      <td>139082.0</td>\n",
       "      <td>112.1</td>\n",
       "      <td>38.1</td>\n",
       "      <td>61.2</td>\n",
       "      <td>85.8</td>\n",
       "      <td>2.5</td>\n",
       "      <td>26.8</td>\n",
       "      <td>15.7</td>\n",
       "      <td>41.6</td>\n",
       "    </tr>\n",
       "  </tbody>\n",
       "</table>\n",
       "</div>"
      ],
      "text/plain": [
       "   max_temp  humidity  cloudiness  wind_speed       2017       2018  \\\n",
       "0     74.30        92          40       14.97   186628.0   191721.0   \n",
       "1     75.52        66          75       25.32   186628.0   191721.0   \n",
       "3     30.81        58           0        8.05  3222411.0  3331340.0   \n",
       "4     71.11        90          89        5.01   186628.0   191721.0   \n",
       "5     26.11        54         100       25.32   114427.0   122910.0   \n",
       "\n",
       "        2019       2020       2021  purchase_power  safety  healh_care  \\\n",
       "0   184088.0   188410.0   204287.0            75.4    52.4        72.5   \n",
       "1   184088.0   188410.0   204287.0            75.4    52.4        72.5   \n",
       "3  3248535.0  3367605.0  3654322.0           114.2    59.6        69.0   \n",
       "4   184088.0   188410.0   204287.0            75.4    52.4        72.5   \n",
       "5   119480.0   124424.0   139082.0           112.1    38.1        61.2   \n",
       "\n",
       "   cost_of_living  prop_to_income_ratio  traffic_comm_time  pollution  climate  \n",
       "0           103.0                   9.2               41.3       37.3     95.3  \n",
       "1           103.0                   9.2               41.3       37.3     95.3  \n",
       "3            82.8                   8.4               35.5       40.0     97.1  \n",
       "4           103.0                   9.2               41.3       37.3     95.3  \n",
       "5            85.8                   2.5               26.8       15.7     41.6  "
      ]
     },
     "execution_count": 23,
     "metadata": {},
     "output_type": "execute_result"
    }
   ],
   "source": [
    "#Define the set of features\n",
    "X=ml_df.copy()\n",
    "X=X.drop(['Unnamed: 0', 'state', 'date', 'description', 'sum_passengers', '2012','2013','2014','2015','2016','city_rank','latitude', 'longitude','qol_index','city', 'high_q'], axis=1)\n",
    "X.head()\n",
    "\n",
    "#NOTE:  we began dropping more columns to see if the model would be impacted.  The overall accuracy was still 100%, but the original top feature was '2014', without '2014', the top feature was 'safety'.\n",
    "#In both tested cases, 'health_care' was the second most important feature"
   ]
  },
  {
   "cell_type": "code",
   "execution_count": 8,
   "metadata": {},
   "outputs": [
    {
     "data": {
      "text/plain": [
       "max_temp                float64\n",
       "humidity                  int64\n",
       "cloudiness                int64\n",
       "wind_speed              float64\n",
       "2017                    float64\n",
       "2018                    float64\n",
       "2019                    float64\n",
       "2020                    float64\n",
       "2021                    float64\n",
       "purchase_power          float64\n",
       "safety                  float64\n",
       "healh_care              float64\n",
       "cost_of_living          float64\n",
       "prop_to_income_ratio    float64\n",
       "traffic_comm_time       float64\n",
       "pollution               float64\n",
       "climate                 float64\n",
       "dtype: object"
      ]
     },
     "execution_count": 8,
     "metadata": {},
     "output_type": "execute_result"
    }
   ],
   "source": [
    "X.dtypes"
   ]
  },
  {
   "cell_type": "code",
   "execution_count": 9,
   "metadata": {},
   "outputs": [
    {
     "data": {
      "text/plain": [
       "array([0, 0, 1, 0, 0, 1, 1, 0, 0, 0], dtype=int64)"
      ]
     },
     "execution_count": 9,
     "metadata": {},
     "output_type": "execute_result"
    }
   ],
   "source": [
    "#Define the target variable\n",
    "y=ml_df['high_q'].values\n",
    "\n",
    "y[:10]"
   ]
  },
  {
   "cell_type": "code",
   "execution_count": 10,
   "metadata": {},
   "outputs": [],
   "source": [
    "# Split Data Set for Training and Testing\n",
    "X_train,X_test, y_train, y_test = train_test_split(X,y, random_state=78)"
   ]
  },
  {
   "cell_type": "code",
   "execution_count": 11,
   "metadata": {},
   "outputs": [
    {
     "name": "stdout",
     "output_type": "stream",
     "text": [
      "(654, 17)\n",
      "(219, 17)\n",
      "(654,)\n",
      "(219,)\n"
     ]
    }
   ],
   "source": [
    "# Determine the shape of the sets\n",
    "print(X_train.shape)\n",
    "print(X_test.shape)\n",
    "print(y_train.shape)\n",
    "print(y_test.shape)"
   ]
  },
  {
   "cell_type": "code",
   "execution_count": 12,
   "metadata": {},
   "outputs": [],
   "source": [
    "# Scale the data, create the instance\n",
    "scaler = StandardScaler()\n",
    "\n",
    "# Fit it with the training data\n",
    "X_scaler = scaler.fit(X_train)\n",
    "\n",
    "# Transform it\n",
    "X_train_scaled = X_scaler.transform(X_train)\n",
    "X_test_scaled = X_scaler.transform(X_test)"
   ]
  },
  {
   "cell_type": "code",
   "execution_count": 13,
   "metadata": {},
   "outputs": [],
   "source": [
    "# Create the RandomForestClassifier\n",
    "# n_estimators is the number of trees.  We start with 128\n",
    "rf_model = RandomForestClassifier(n_estimators = 50, random_state = 78)"
   ]
  },
  {
   "cell_type": "code",
   "execution_count": 14,
   "metadata": {},
   "outputs": [],
   "source": [
    "# Fit the model\n",
    "rf_model = rf_model.fit(X_train_scaled, y_train)"
   ]
  },
  {
   "cell_type": "code",
   "execution_count": 15,
   "metadata": {},
   "outputs": [
    {
     "data": {
      "text/plain": [
       "array([1, 1, 1, 1, 1, 1, 1, 0, 0, 0, 0, 0, 1, 0, 1, 0, 0, 0, 0, 0, 1, 1,\n",
       "       0, 0, 0, 1, 1, 0, 0, 0, 1, 1, 1, 0, 1, 0, 1, 1, 1, 1, 0, 1, 1, 0,\n",
       "       0, 1, 1, 0, 1, 0, 0, 0, 0, 0, 0, 0, 0, 0, 0, 1, 1, 0, 0, 0, 1, 0,\n",
       "       1, 0, 0, 1, 0, 0, 0, 1, 1, 1, 1, 0, 1, 1, 0, 1, 1, 0, 0, 1, 0, 0,\n",
       "       1, 1, 0, 0, 0, 1, 1, 0, 0, 0, 1, 0, 1, 1, 0, 1, 1, 1, 0, 1, 1, 0,\n",
       "       1, 1, 0, 1, 1, 0, 0, 1, 0, 1, 1, 0, 1, 0, 0, 1, 0, 1, 0, 1, 1, 0,\n",
       "       0, 0, 1, 0, 0, 1, 1, 1, 0, 0, 0, 1, 0, 1, 1, 1, 0, 1, 0, 0, 1, 0,\n",
       "       1, 0, 0, 0, 0, 1, 0, 0, 0, 0, 0, 0, 1, 1, 1, 0, 0, 0, 0, 0, 0, 1,\n",
       "       0, 1, 0, 0, 1, 1, 0, 1, 1, 0, 1, 0, 0, 0, 1, 0, 1, 0, 0, 0, 0, 0,\n",
       "       1, 0, 1, 1, 0, 1, 0, 0, 1, 1, 1, 0, 1, 0, 0, 0, 0, 1, 1, 1, 0],\n",
       "      dtype=int64)"
      ]
     },
     "execution_count": 15,
     "metadata": {},
     "output_type": "execute_result"
    }
   ],
   "source": [
    "# Make the predictions with testing inputs\n",
    "predictions = rf_model.predict(X_test_scaled)\n",
    "predictions"
   ]
  },
  {
   "cell_type": "code",
   "execution_count": 16,
   "metadata": {},
   "outputs": [
    {
     "data": {
      "text/html": [
       "<div>\n",
       "<style scoped>\n",
       "    .dataframe tbody tr th:only-of-type {\n",
       "        vertical-align: middle;\n",
       "    }\n",
       "\n",
       "    .dataframe tbody tr th {\n",
       "        vertical-align: top;\n",
       "    }\n",
       "\n",
       "    .dataframe thead th {\n",
       "        text-align: right;\n",
       "    }\n",
       "</style>\n",
       "<table border=\"1\" class=\"dataframe\">\n",
       "  <thead>\n",
       "    <tr style=\"text-align: right;\">\n",
       "      <th></th>\n",
       "      <th>Predicted 0</th>\n",
       "      <th>Predicted 1</th>\n",
       "    </tr>\n",
       "  </thead>\n",
       "  <tbody>\n",
       "    <tr>\n",
       "      <th>Actual 0</th>\n",
       "      <td>120</td>\n",
       "      <td>0</td>\n",
       "    </tr>\n",
       "    <tr>\n",
       "      <th>Actual 1</th>\n",
       "      <td>0</td>\n",
       "      <td>99</td>\n",
       "    </tr>\n",
       "  </tbody>\n",
       "</table>\n",
       "</div>"
      ],
      "text/plain": [
       "          Predicted 0  Predicted 1\n",
       "Actual 0          120            0\n",
       "Actual 1            0           99"
      ]
     },
     "execution_count": 16,
     "metadata": {},
     "output_type": "execute_result"
    }
   ],
   "source": [
    "# Evaluate the model with the confusion matrix\n",
    "cm = confusion_matrix(y_test, predictions)\n",
    "\n",
    "# Create a DataFrame\n",
    "cm_df = pd.DataFrame(\n",
    "    cm, index = [\"Actual 0\", \"Actual 1\"], columns = [\"Predicted 0\", \"Predicted 1\"])\n",
    "\n",
    "cm_df"
   ]
  },
  {
   "cell_type": "code",
   "execution_count": 17,
   "metadata": {},
   "outputs": [
    {
     "data": {
      "text/plain": [
       "1.0"
      ]
     },
     "execution_count": 17,
     "metadata": {},
     "output_type": "execute_result"
    }
   ],
   "source": [
    "# Calculate the accuracy score. \n",
    "\n",
    "acc_score = accuracy_score(y_test, predictions)\n",
    "acc_score"
   ]
  },
  {
   "cell_type": "code",
   "execution_count": 18,
   "metadata": {},
   "outputs": [
    {
     "name": "stdout",
     "output_type": "stream",
     "text": [
      "Confusion Matrix\n"
     ]
    },
    {
     "data": {
      "text/html": [
       "<div>\n",
       "<style scoped>\n",
       "    .dataframe tbody tr th:only-of-type {\n",
       "        vertical-align: middle;\n",
       "    }\n",
       "\n",
       "    .dataframe tbody tr th {\n",
       "        vertical-align: top;\n",
       "    }\n",
       "\n",
       "    .dataframe thead th {\n",
       "        text-align: right;\n",
       "    }\n",
       "</style>\n",
       "<table border=\"1\" class=\"dataframe\">\n",
       "  <thead>\n",
       "    <tr style=\"text-align: right;\">\n",
       "      <th></th>\n",
       "      <th>Predicted 0</th>\n",
       "      <th>Predicted 1</th>\n",
       "    </tr>\n",
       "  </thead>\n",
       "  <tbody>\n",
       "    <tr>\n",
       "      <th>Actual 0</th>\n",
       "      <td>120</td>\n",
       "      <td>0</td>\n",
       "    </tr>\n",
       "    <tr>\n",
       "      <th>Actual 1</th>\n",
       "      <td>0</td>\n",
       "      <td>99</td>\n",
       "    </tr>\n",
       "  </tbody>\n",
       "</table>\n",
       "</div>"
      ],
      "text/plain": [
       "          Predicted 0  Predicted 1\n",
       "Actual 0          120            0\n",
       "Actual 1            0           99"
      ]
     },
     "metadata": {},
     "output_type": "display_data"
    },
    {
     "name": "stdout",
     "output_type": "stream",
     "text": [
      "Accuracy Score:\t\t 1.0\n",
      "\n",
      "Classification Report\n",
      "              precision    recall  f1-score   support\n",
      "\n",
      "           0       1.00      1.00      1.00       120\n",
      "           1       1.00      1.00      1.00        99\n",
      "\n",
      "    accuracy                           1.00       219\n",
      "   macro avg       1.00      1.00      1.00       219\n",
      "weighted avg       1.00      1.00      1.00       219\n",
      "\n"
     ]
    }
   ],
   "source": [
    "# Display results\n",
    "# Display all the results\n",
    "\n",
    "print(\"Confusion Matrix\")\n",
    "display(cm_df)\n",
    "print(f\"Accuracy Score:\\t\\t {acc_score}\")\n",
    "print(\"\\nClassification Report\")\n",
    "print(classification_report(y_test, predictions))"
   ]
  },
  {
   "cell_type": "code",
   "execution_count": 19,
   "metadata": {},
   "outputs": [
    {
     "data": {
      "text/plain": [
       "array([3.61606176e-02, 5.88270119e-04, 2.89941211e-03, 2.70224749e-05,\n",
       "       5.69624520e-02, 6.91433305e-02, 5.44109900e-02, 8.79482887e-02,\n",
       "       1.18152151e-01, 3.50462974e-02, 1.40244410e-01, 1.30462377e-01,\n",
       "       1.09292922e-02, 3.03681325e-02, 6.99655491e-02, 6.06181141e-02,\n",
       "       9.60732928e-02])"
      ]
     },
     "execution_count": 19,
     "metadata": {},
     "output_type": "execute_result"
    }
   ],
   "source": [
    "importances = rf_model.feature_importances_\n",
    "\n",
    "importances"
   ]
  },
  {
   "cell_type": "code",
   "execution_count": 20,
   "metadata": {},
   "outputs": [
    {
     "data": {
      "text/plain": [
       "[(0.1402444096298895, 'safety'),\n",
       " (0.1304623773414553, 'healh_care'),\n",
       " (0.11815215147390867, '2021'),\n",
       " (0.09607329276849791, 'climate'),\n",
       " (0.08794828869074511, '2020'),\n",
       " (0.06996554911068223, 'traffic_comm_time'),\n",
       " (0.06914333054969309, '2018'),\n",
       " (0.0606181140914482, 'pollution'),\n",
       " (0.05696245202295112, '2017'),\n",
       " (0.05441098995328386, '2019'),\n",
       " (0.03616061756685184, 'max_temp'),\n",
       " (0.03504629743712889, 'purchase_power'),\n",
       " (0.03036813247620957, 'prop_to_income_ratio'),\n",
       " (0.010929292186360956, 'cost_of_living'),\n",
       " (0.002899412107146772, 'cloudiness'),\n",
       " (0.0005882701188193386, 'humidity'),\n",
       " (2.7022474927641522e-05, 'wind_speed')]"
      ]
     },
     "execution_count": 20,
     "metadata": {},
     "output_type": "execute_result"
    }
   ],
   "source": [
    "# Sort the importances\n",
    "sorted(zip(rf_model.feature_importances_, X.columns), reverse = True)"
   ]
  },
  {
   "cell_type": "code",
   "execution_count": 21,
   "metadata": {},
   "outputs": [
    {
     "name": "stdout",
     "output_type": "stream",
     "text": [
      "[3.61606176e-02 5.88270119e-04 2.89941211e-03 2.70224749e-05\n",
      " 5.69624520e-02 6.91433305e-02 5.44109900e-02 8.79482887e-02\n",
      " 1.18152151e-01 3.50462974e-02 1.40244410e-01 1.30462377e-01\n",
      " 1.09292922e-02 3.03681325e-02 6.99655491e-02 6.06181141e-02\n",
      " 9.60732928e-02]\n"
     ]
    },
    {
     "data": {
      "image/png": "[encoded data removed]",
      "text/plain": [
       "<Figure size 640x480 with 1 Axes>"
      ]
     },
     "metadata": {},
     "output_type": "display_data"
    }
   ],
   "source": [
    "%matplotlib inline\n",
    "from matplotlib import pyplot as plt\n",
    "features = rf_model.feature_importances_\n",
    "print(features)\n",
    "plt.bar(x = range(len(features)), height=features)\n",
    "plt.show()"
   ]
  },
  {
   "cell_type": "code",
   "execution_count": 26,
   "metadata": {},
   "outputs": [
    {
     "data": {
      "image/png": "[encoded data removed]",
      "text/plain": [
       "<Figure size 100x2000 with 1 Axes>"
      ]
     },
     "metadata": {},
     "output_type": "display_data"
    }
   ],
   "source": [
    "# Use the following code to plot the most important features\n",
    "features = sorted(zip(X.columns, rf_model.feature_importances_), key = lambda x: x[1])\n",
    "cols = [f[0] for f in features]\n",
    "width = [f[1] for f in features]\n",
    "\n",
    "fig, ax = plt.subplots()\n",
    "\n",
    "fig.set_size_inches(1,20)\n",
    "plt.margins(y=0.005)\n",
    "\n",
    "ax.barh(y=cols, width=width)\n",
    "\n",
    "plt.show()"
   ]
  },
  {
   "cell_type": "code",
   "execution_count": null,
   "metadata": {},
   "outputs": [],
   "source": []
  }
 ],
 "metadata": {
  "kernelspec": {
   "display_name": "PythonData",
   "language": "python",
   "name": "python3"
  },
  "language_info": {
   "codemirror_mode": {
    "name": "ipython",
    "version": 3
   },
   "file_extension": ".py",
   "mimetype": "text/x-python",
   "name": "python",
   "nbconvert_exporter": "python",
   "pygments_lexer": "ipython3",
   "version": "3.7.13"
  },
  "orig_nbformat": 4
 },
 "nbformat": 4,
 "nbformat_minor": 2
}
